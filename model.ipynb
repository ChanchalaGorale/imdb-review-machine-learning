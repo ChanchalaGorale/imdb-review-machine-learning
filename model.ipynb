{
 "cells": [
  {
   "cell_type": "code",
   "execution_count": null,
   "id": "c26b3bce",
   "metadata": {},
   "outputs": [],
   "source": [
    "import tensorflow as tf\n",
    "import numpy as np\n",
    "import matplotlib.pyplot as plt\n",
    "import sklearn\n",
    "import cv2\n",
    "from sklearn.metrics import confusion_matrix, roc_curve\n",
    "import seaborn as sns\n",
    "import datetime\n",
    "import pathlib\n",
    "import io\n",
    "import os\n",
    "import re\n",
    "import string\n",
    "import time\n",
    "from numpy import random\n",
    "import gensim.downloader as api\n",
    "from PIL import Image\n",
    "import tensorflow_datasets as tfds\n",
    "import tensorflow_probability as tfp\n",
    "from tensorflow.keras.models import Model\n",
    "from tensorflow.keras.layers import Layer\n",
    "from tensorflow.keras.layers import (Dense,Flatten,SimpleRNN,InputLayer,Conv1D,Bidirectional,GRU,LSTM,BatchNormalization,Dropout,Input, Embedding,TextVectorization)\n",
    "from tensorflow.keras.losses import BinaryCrossentropy,CategoricalCrossentropy, SparseCategoricalCrossentropy\n",
    "from tensorflow.keras.metrics import Accuracy,TopKCategoricalAccuracy, CategoricalAccuracy, SparseCategoricalAccuracy\n",
    "from tensorflow.keras.optimizers import Adam\n",
    "from tensorboard.plugins import projector"
   ]
  },
  {
   "cell_type": "code",
   "execution_count": null,
   "id": "3ac321cc",
   "metadata": {},
   "outputs": [],
   "source": [
    "BATCH_SIZE=64"
   ]
  },
  {
   "cell_type": "code",
   "execution_count": null,
   "id": "a1101022",
   "metadata": {},
   "outputs": [],
   "source": [
    "train_ds,val_ds,test_ds=tfds.load('imdb_reviews', split=['train', 'test[:50%]', 'test[50%:]'],as_supervised=True)"
   ]
  },
  {
   "cell_type": "code",
   "execution_count": null,
   "id": "900e7b09",
   "metadata": {},
   "outputs": [],
   "source": [
    "train_ds"
   ]
  },
  {
   "cell_type": "code",
   "execution_count": null,
   "id": "b783df3e",
   "metadata": {},
   "outputs": [],
   "source": [
    "for review,label in val_ds.take(2):\n",
    "  print(review)\n",
    "  print(label)"
   ]
  },
  {
   "cell_type": "code",
   "execution_count": null,
   "id": "0eeac6dc",
   "metadata": {},
   "outputs": [],
   "source": [
    "def standardization(input_data):\n",
    "    '''\n",
    "    Input: raw reviews\n",
    "    output: standardized reviews\n",
    "    '''\n",
    "    lowercase=tf.strings.lower(input_data)\n",
    "    no_tag=tf.strings.regex_replace(lowercase,\"<[^>]+>\",\"\")\n",
    "    output=tf.strings.regex_replace(no_tag,\"[%s]\"%re.escape(string.punctuation),\"\")\n",
    "\n",
    "    return output"
   ]
  },
  {
   "cell_type": "code",
   "execution_count": null,
   "id": "6794c4db",
   "metadata": {},
   "outputs": [],
   "source": [
    "standardization(tf.constant(\"<u>In the movie?, </u>man called Tévèz, went to a friend’s pl**ce and they had a tensed discussion. I don’t love this movie! would you?<br> <br /><br />T\"))"
   ]
  },
  {
   "cell_type": "code",
   "execution_count": null,
   "id": "17f65a50",
   "metadata": {},
   "outputs": [],
   "source": [
    "VOCAB_SIZE=10000\n",
    "SEQUENCE_LENGTH=250\n",
    "EMBEDDING_DIM=300"
   ]
  },
  {
   "cell_type": "code",
   "execution_count": null,
   "id": "1553aa72",
   "metadata": {},
   "outputs": [],
   "source": [
    "vectorize_layer=TextVectorization(\n",
    "    standardize=standardization,\n",
    "    max_tokens=VOCAB_SIZE,\n",
    "    output_mode='int',\n",
    "    output_sequence_length=SEQUENCE_LENGTH\n",
    ")"
   ]
  },
  {
   "cell_type": "code",
   "execution_count": null,
   "id": "0496225f",
   "metadata": {},
   "outputs": [],
   "source": [
    "training_data=train_ds.map(lambda x,y:x)### input x and y and outputx\n",
    "vectorize_layer.adapt(training_data)#### adapt the vectorize_layer to the training data"
   ]
  },
  {
   "cell_type": "code",
   "execution_count": null,
   "id": "e6e8fba8",
   "metadata": {},
   "outputs": [],
   "source": [
    "len(vectorize_layer.get_vocabulary())"
   ]
  },
  {
   "cell_type": "code",
   "execution_count": null,
   "id": "eac52cf8",
   "metadata": {},
   "outputs": [],
   "source": [
    "def vectorizer(review,label):\n",
    "    return vectorize_layer(review),label"
   ]
  },
  {
   "cell_type": "code",
   "execution_count": null,
   "id": "62e8d54e",
   "metadata": {},
   "outputs": [],
   "source": [
    "train_dataset=train_ds.map(vectorizer)\n",
    "val_dataset=val_ds.map(vectorizer)"
   ]
  },
  {
   "cell_type": "code",
   "execution_count": null,
   "id": "3ae3509d",
   "metadata": {},
   "outputs": [],
   "source": [
    "vectorize_layer.get_vocabulary()[411]"
   ]
  },
  {
   "cell_type": "code",
   "execution_count": null,
   "id": "54dc4d89",
   "metadata": {},
   "outputs": [],
   "source": [
    "for review,label in train_dataset.take(1):\n",
    "  print(review)\n",
    "  print(label)"
   ]
  },
  {
   "cell_type": "code",
   "execution_count": null,
   "id": "550fb888",
   "metadata": {},
   "outputs": [],
   "source": [
    "train_dataset=train_dataset.batch(BATCH_SIZE).prefetch(buffer_size=tf.data.AUTOTUNE)\n",
    "val_dataset=val_dataset.batch(BATCH_SIZE).prefetch(buffer_size=tf.data.AUTOTUNE)"
   ]
  },
  {
   "cell_type": "code",
   "execution_count": null,
   "id": "5cef8344",
   "metadata": {},
   "outputs": [],
   "source": [
    "inputs=np.random.random([32, 10, 8]).astype(np.float32)\n",
    "simple_rnn=tf.keras.layers.SimpleRNN(25)\n",
    "output=simple_rnn(inputs)\n",
    "print(output.shape)"
   ]
  },
  {
   "cell_type": "code",
   "execution_count": null,
   "id": "84c0e25c",
   "metadata": {},
   "outputs": [],
   "source": [
    "EMBEDDING_DIM=64\n",
    "model=tf.keras.models.Sequential([\n",
    "    Input(shape=(SEQUENCE_LENGTH,)),\n",
    "    Embedding(VOCAB_SIZE,EMBEDDING_DIM),\n",
    "    SimpleRNN(32),\n",
    "    Dense(1,activation='sigmoid'),\n",
    "])\n",
    "model.summary()"
   ]
  },
  {
   "cell_type": "code",
   "execution_count": null,
   "id": "1c189356",
   "metadata": {},
   "outputs": [],
   "source": [
    "checkpoint_filepath = '/rnn.keras'\n",
    "model_checkpoint_callback = tf.keras.callbacks.ModelCheckpoint(\n",
    "    filepath=checkpoint_filepath,\n",
    "    monitor='val_accuracy',\n",
    "    mode='max',\n",
    "    save_best_only=True)"
   ]
  },
  {
   "cell_type": "code",
   "execution_count": null,
   "id": "fdb646f6",
   "metadata": {},
   "outputs": [],
   "source": [
    "model.compile(loss=tf.keras.losses.BinaryCrossentropy(),\n",
    "              optimizer=tf.keras.optimizers.Adam(1e-4),\n",
    "              metrics=['accuracy'])"
   ]
  },
  {
   "cell_type": "code",
   "execution_count": null,
   "id": "ebd43468",
   "metadata": {},
   "outputs": [],
   "source": [
    "history=model.fit(\n",
    "    train_dataset,\n",
    "    validation_data=val_dataset,\n",
    "    epochs=10,\n",
    "    callbacks=[model_checkpoint_callback])"
   ]
  },
  {
   "cell_type": "code",
   "execution_count": null,
   "id": "eed46092",
   "metadata": {},
   "outputs": [],
   "source": [
    "plt.plot(history.history['loss'])\n",
    "plt.plot(history.history['val_loss'])\n",
    "plt.title('model_loss')\n",
    "plt.ylabel('loss')\n",
    "plt.xlabel('epoch')\n",
    "plt.legend(['train', 'val'], loc='upper left')\n",
    "plt.show()"
   ]
  },
  {
   "cell_type": "code",
   "execution_count": null,
   "id": "19a54337",
   "metadata": {},
   "outputs": [],
   "source": [
    "plt.plot(history.history['accuracy'])\n",
    "plt.plot(history.history['val_accuracy'])\n",
    "\n",
    "plt.title('model_accuracy')\n",
    "plt.ylabel('accuracy')\n",
    "plt.xlabel('epoch')\n",
    "plt.legend(['train', 'val'], loc='upper left')\n",
    "plt.show()"
   ]
  },
  {
   "cell_type": "code",
   "execution_count": null,
   "id": "01724321",
   "metadata": {},
   "outputs": [],
   "source": [
    "test_dataset=test_ds.map(vectorizer)\n",
    "test_dataset=test_dataset.batch(BATCH_SIZE)\n",
    "model.evaluate(train_dataset)"
   ]
  },
  {
   "cell_type": "code",
   "execution_count": null,
   "id": "1f95d4e1",
   "metadata": {},
   "outputs": [],
   "source": [
    "EMBEDDING_DIM=64\n",
    "model=tf.keras.models.Sequential([\n",
    "    Input(shape=(SEQUENCE_LENGTH,)),\n",
    "    Embedding(VOCAB_SIZE,EMBEDDING_DIM),\n",
    "\n",
    "    Bidirectional(LSTM(64,return_sequences=True)),\n",
    "    Bidirectional(LSTM(32)),\n",
    "    \n",
    "    Dense(64, activation='relu'),\n",
    "    Dropout(0.5),\n",
    "    Dense(1,activation='sigmoid'),\n",
    "])\n",
    "model.summary()"
   ]
  },
  {
   "cell_type": "code",
   "execution_count": null,
   "id": "f97d22cc",
   "metadata": {},
   "outputs": [],
   "source": [
    "checkpoint_filepath = '/content/drive/MyDrive/nlp/sentiment_analysis/lstm.h5'\n",
    "model_checkpoint_callback = tf.keras.callbacks.ModelCheckpoint(\n",
    "    filepath=checkpoint_filepath,\n",
    "    monitor='val_accuracy',\n",
    "    mode='max',\n",
    "    save_best_only=True)"
   ]
  },
  {
   "cell_type": "code",
   "execution_count": null,
   "id": "42173dfa",
   "metadata": {},
   "outputs": [],
   "source": [
    "model.compile(loss=tf.keras.losses.BinaryCrossentropy(),\n",
    "              optimizer=tf.keras.optimizers.Adam(1e-4),\n",
    "              metrics=['accuracy'])"
   ]
  },
  {
   "cell_type": "code",
   "execution_count": null,
   "id": "166f0f9f",
   "metadata": {},
   "outputs": [],
   "source": [
    "history=model.fit(\n",
    "    train_dataset,\n",
    "    validation_data=val_dataset,\n",
    "    epochs=10,\n",
    "    callbacks=[model_checkpoint_callback])"
   ]
  },
  {
   "cell_type": "code",
   "execution_count": null,
   "id": "fdf8ad4e",
   "metadata": {},
   "outputs": [],
   "source": [
    "plt.plot(history.history['loss'])\n",
    "plt.plot(history.history['val_loss'])\n",
    "plt.title('model_loss')\n",
    "plt.ylabel('loss')\n",
    "plt.xlabel('epoch')\n",
    "plt.legend(['train', 'val'], loc='upper left')\n",
    "plt.show()"
   ]
  },
  {
   "cell_type": "code",
   "execution_count": null,
   "id": "3c63da1a",
   "metadata": {},
   "outputs": [],
   "source": [
    "plt.plot(history.history['accuracy'])\n",
    "plt.plot(history.history['val_accuracy'])\n",
    "\n",
    "plt.title('model_accuracy')\n",
    "plt.ylabel('accuracy')\n",
    "plt.xlabel('epoch')\n",
    "plt.legend(['train', 'val'], loc='upper left')\n",
    "plt.show()"
   ]
  },
  {
   "cell_type": "code",
   "execution_count": null,
   "id": "dbd585df",
   "metadata": {},
   "outputs": [],
   "source": [
    "test_dataset=test_ds.map(vectorizer)\n",
    "test_dataset=test_dataset.batch(BATCH_SIZE)\n",
    "model.evaluate(test_dataset)"
   ]
  },
  {
   "cell_type": "code",
   "execution_count": null,
   "id": "39acc28d",
   "metadata": {},
   "outputs": [],
   "source": [
    "EMBEDDING_DIM=64\n",
    "model=tf.keras.models.Sequential([\n",
    "    Input(shape=(SEQUENCE_LENGTH,)),\n",
    "    Embedding(VOCAB_SIZE,EMBEDDING_DIM),\n",
    "\n",
    "    Bidirectional(GRU(64,return_sequences=True)),\n",
    "    Bidirectional(GRU(32)),\n",
    "    \n",
    "    Dense(64, activation='relu'),\n",
    "    Dropout(0.5),\n",
    "    Dense(1,activation='sigmoid'),\n",
    "])\n",
    "model.summary()"
   ]
  },
  {
   "cell_type": "code",
   "execution_count": null,
   "id": "4bc4a05d",
   "metadata": {},
   "outputs": [],
   "source": [
    "checkpoint_filepath = '/content/drive/MyDrive/nlp/sentiment_analysis/gru.h5'\n",
    "model_checkpoint_callback = tf.keras.callbacks.ModelCheckpoint(\n",
    "    filepath=checkpoint_filepath,\n",
    "    monitor='val_accuracy',\n",
    "    mode='max',\n",
    "    save_best_only=True)"
   ]
  },
  {
   "cell_type": "code",
   "execution_count": null,
   "id": "34b0c5d2",
   "metadata": {},
   "outputs": [],
   "source": [
    "model.compile(loss=tf.keras.losses.BinaryCrossentropy(),\n",
    "              optimizer=tf.keras.optimizers.Adam(1e-4),\n",
    "              metrics=['accuracy'])"
   ]
  },
  {
   "cell_type": "code",
   "execution_count": null,
   "id": "def1835b",
   "metadata": {},
   "outputs": [],
   "source": [
    "history=model.fit(\n",
    "    train_dataset,\n",
    "    validation_data=val_dataset,\n",
    "    epochs=10,\n",
    "    callbacks=[])"
   ]
  },
  {
   "cell_type": "code",
   "execution_count": null,
   "id": "4328c440",
   "metadata": {},
   "outputs": [],
   "source": [
    "plt.plot(history.history['loss'])\n",
    "plt.plot(history.history['val_loss'])\n",
    "plt.title('model_loss')\n",
    "plt.ylabel('loss')\n",
    "plt.xlabel('epoch')\n",
    "plt.legend(['train', 'val'], loc='upper left')\n",
    "plt.show()"
   ]
  },
  {
   "cell_type": "code",
   "execution_count": null,
   "id": "a4b38e75",
   "metadata": {},
   "outputs": [],
   "source": [
    "plt.plot(history.history['accuracy'])\n",
    "plt.plot(history.history['val_accuracy'])\n",
    "\n",
    "plt.title('model_accuracy')\n",
    "plt.ylabel('accuracy')\n",
    "plt.xlabel('epoch')\n",
    "plt.legend(['train', 'val'], loc='upper left')\n",
    "plt.show()"
   ]
  },
  {
   "cell_type": "code",
   "execution_count": null,
   "id": "0155a1e2",
   "metadata": {},
   "outputs": [],
   "source": [
    "test_dataset=test_ds.map(vectorizer)\n",
    "test_dataset=test_dataset.batch(BATCH_SIZE)\n",
    "model.evaluate(test_dataset)"
   ]
  },
  {
   "cell_type": "code",
   "execution_count": null,
   "id": "17efc692",
   "metadata": {},
   "outputs": [],
   "source": [
    "EMBEDDING_DIM=300\n",
    "model=tf.keras.models.Sequential([\n",
    "    Input(shape=(SEQUENCE_LENGTH,)),\n",
    "    Embedding(VOCAB_SIZE,EMBEDDING_DIM),\n",
    "\n",
    "    Conv1D(32, 3, activation='relu',),\n",
    "    Flatten(),\n",
    "    Dense(32, activation='relu'),\n",
    "    Dropout(0.5),\n",
    "    Dense(1,activation='sigmoid'),\n",
    "])\n",
    "model.summary()"
   ]
  },
  {
   "cell_type": "code",
   "execution_count": null,
   "id": "56e7e4af",
   "metadata": {},
   "outputs": [],
   "source": [
    "checkpoint_filepath = '/content/drive/MyDrive/nlp/sentiment_analysis/conv_1d.h5'\n",
    "model_checkpoint_callback = tf.keras.callbacks.ModelCheckpoint(\n",
    "    filepath=checkpoint_filepath,\n",
    "    monitor='val_accuracy',\n",
    "    mode='max',\n",
    "    save_best_only=True)"
   ]
  },
  {
   "cell_type": "code",
   "execution_count": null,
   "id": "e6f2e1ba",
   "metadata": {},
   "outputs": [],
   "source": [
    "model.compile(loss=tf.keras.losses.BinaryCrossentropy(),\n",
    "              optimizer=tf.keras.optimizers.Adam(1e-4),\n",
    "              metrics=['accuracy'])"
   ]
  },
  {
   "cell_type": "code",
   "execution_count": null,
   "id": "b993fffa",
   "metadata": {},
   "outputs": [],
   "source": [
    "history=model.fit(\n",
    "    train_dataset,\n",
    "    validation_data=val_dataset,\n",
    "    epochs=10,\n",
    "    callbacks=[model_checkpoint_callback])"
   ]
  },
  {
   "cell_type": "code",
   "execution_count": null,
   "id": "3808300a",
   "metadata": {},
   "outputs": [],
   "source": [
    "plt.plot(history.history['loss'])\n",
    "plt.plot(history.history['val_loss'])\n",
    "plt.title('model_loss')\n",
    "plt.ylabel('loss')\n",
    "plt.xlabel('epoch')\n",
    "plt.legend(['train', 'val'], loc='upper left')\n",
    "plt.show()"
   ]
  },
  {
   "cell_type": "code",
   "execution_count": null,
   "id": "f6ca2b7f",
   "metadata": {},
   "outputs": [],
   "source": [
    "plt.plot(history.history['accuracy'])\n",
    "plt.plot(history.history['val_accuracy'])\n",
    "\n",
    "plt.title('model_accuracy')\n",
    "plt.ylabel('accuracy')\n",
    "plt.xlabel('epoch')\n",
    "plt.legend(['train', 'val'], loc='upper left')\n",
    "plt.show()"
   ]
  },
  {
   "cell_type": "code",
   "execution_count": null,
   "id": "f93aa313",
   "metadata": {},
   "outputs": [],
   "source": [
    "model.load_weights(checkpoint_filepath)"
   ]
  },
  {
   "cell_type": "code",
   "execution_count": null,
   "id": "71aebccc",
   "metadata": {},
   "outputs": [],
   "source": [
    "test_dataset=test_ds.map(vectorizer)\n",
    "test_dataset=test_dataset.batch(BATCH_SIZE)\n",
    "model.evaluate(test_dataset)"
   ]
  },
  {
   "cell_type": "code",
   "execution_count": null,
   "id": "5b21d3a3",
   "metadata": {},
   "outputs": [],
   "source": [
    "word2vec=api.load('word2vec-google-news-300')"
   ]
  },
  {
   "cell_type": "code",
   "execution_count": null,
   "id": "e74e536b",
   "metadata": {},
   "outputs": [],
   "source": [
    "word2vec.vectors.shape"
   ]
  },
  {
   "cell_type": "code",
   "execution_count": null,
   "id": "66cbf35f",
   "metadata": {},
   "outputs": [],
   "source": [
    "#print(word2vec.vocab)\n",
    "len(word2vec['The'])"
   ]
  },
  {
   "cell_type": "code",
   "execution_count": null,
   "id": "0aacf81a",
   "metadata": {},
   "outputs": [],
   "source": [
    "word2vec.most_similar('Man')"
   ]
  },
  {
   "cell_type": "code",
   "execution_count": null,
   "id": "6b1bc2e1",
   "metadata": {},
   "outputs": [],
   "source": [
    "pretrained_embeddings=[]"
   ]
  },
  {
   "cell_type": "code",
   "execution_count": null,
   "id": "017bca6f",
   "metadata": {},
   "outputs": [],
   "source": [
    "vectorize_layer.get_vocabulary()[2]"
   ]
  },
  {
   "cell_type": "code",
   "execution_count": null,
   "id": "2de5a4d5",
   "metadata": {},
   "outputs": [],
   "source": [
    "pretrained_embeddings=[]\n",
    "\n",
    "len(vectorize_layer.get_vocabulary())"
   ]
  },
  {
   "cell_type": "code",
   "execution_count": null,
   "id": "261bc0b5",
   "metadata": {},
   "outputs": [],
   "source": [
    "for i in range(len(vectorize_layer.get_vocabulary())):\n",
    "  try:\n",
    "    pretrained_embeddings.append(word2vec[vectorize_layer.get_vocabulary()[i]])\n",
    "  except:\n",
    "    print(vectorize_layer.get_vocabulary()[i])\n",
    "    try:\n",
    "      pretrained_embeddings.append(word2vec[first_caps(vectorize_layer.get_vocabulary()[i])])\n",
    "      print('toupper')\n",
    "    except:\n",
    "      print('nosolution')\n",
    "      pretrained_embeddings.append(random.normal(loc=0, scale=1, size=(EMBEDDING_DIM)))#reloaded_word_vectors[vectorize_layer.get_vocabulary()[i]])\n",
    "  if i%1000==0:\n",
    "    print('iis====================================',i)"
   ]
  },
  {
   "cell_type": "code",
   "execution_count": null,
   "id": "3a50731d",
   "metadata": {},
   "outputs": [],
   "source": [
    "pretrained_embeddings_array=np.array(pretrained_embeddings)\n",
    "print(pretrained_embeddings_array.shape)"
   ]
  },
  {
   "cell_type": "code",
   "execution_count": null,
   "id": "9f83db0e",
   "metadata": {},
   "outputs": [],
   "source": [
    "pretrained_embeddings_array=np.load('/content/drive/MyDrive/nlp/sentiment_analysis/pretrained_embeddings.npy')"
   ]
  },
  {
   "cell_type": "code",
   "execution_count": null,
   "id": "e173cc2e",
   "metadata": {},
   "outputs": [],
   "source": [
    "pretrained_embeddings_array.shape"
   ]
  },
  {
   "cell_type": "code",
   "execution_count": null,
   "id": "0641c051",
   "metadata": {},
   "outputs": [],
   "source": [
    "EMBEDDING_DIM=300\n",
    "model=tf.keras.models.Sequential([\n",
    "    Input(shape=(SEQUENCE_LENGTH,)),\n",
    "    Embedding(\n",
    "        VOCAB_SIZE,\n",
    "        EMBEDDING_DIM,\n",
    "        embeddings_initializer=tf.keras.initializers.Constant(pretrained_embeddings_array),\n",
    "        trainable=True,\n",
    "    ),\n",
    "\n",
    "    Conv1D(32, 3, activation='relu',),\n",
    "    Flatten(),\n",
    "    Dense(32, activation='relu'),\n",
    "    Dropout(0.5),\n",
    "    Dense(1,activation='sigmoid'),\n",
    "])\n",
    "model.summary()"
   ]
  },
  {
   "cell_type": "code",
   "execution_count": null,
   "id": "748d4084",
   "metadata": {},
   "outputs": [],
   "source": [
    "checkpoint_filepath = '/content/drive/MyDrive/nlp/sentiment_analysis/conv_1d_word2vec.h5'\n",
    "model_checkpoint_callback = tf.keras.callbacks.ModelCheckpoint(\n",
    "    filepath=checkpoint_filepath,\n",
    "    monitor='val_accuracy',\n",
    "    mode='max',\n",
    "    save_best_only=True)"
   ]
  },
  {
   "cell_type": "code",
   "execution_count": null,
   "id": "06bfcaae",
   "metadata": {},
   "outputs": [],
   "source": [
    "model.compile(loss=tf.keras.losses.BinaryCrossentropy(),\n",
    "              optimizer=tf.keras.optimizers.Adam(1e-4),\n",
    "              metrics=['accuracy'])"
   ]
  },
  {
   "cell_type": "code",
   "execution_count": null,
   "id": "9882eb80",
   "metadata": {},
   "outputs": [],
   "source": [
    "history=model.fit(\n",
    "    train_dataset,\n",
    "    validation_data=val_dataset,\n",
    "    epochs=10,\n",
    "    callbacks=[model_checkpoint_callback])"
   ]
  },
  {
   "cell_type": "code",
   "execution_count": null,
   "id": "d7b5d983",
   "metadata": {},
   "outputs": [],
   "source": [
    "plt.plot(history.history['loss'])\n",
    "plt.plot(history.history['val_loss'])\n",
    "plt.title('model_loss')\n",
    "plt.ylabel('loss')\n",
    "plt.xlabel('epoch')\n",
    "plt.legend(['train', 'val'], loc='upper left')\n",
    "plt.show()"
   ]
  },
  {
   "cell_type": "code",
   "execution_count": null,
   "id": "71aa67dc",
   "metadata": {},
   "outputs": [],
   "source": [
    "plt.plot(history.history['accuracy'])\n",
    "plt.plot(history.history['val_accuracy'])\n",
    "\n",
    "plt.title('model_accuracy')\n",
    "plt.ylabel('accuracy')\n",
    "plt.xlabel('epoch')\n",
    "plt.legend(['train', 'val'], loc='upper left')\n",
    "plt.show()"
   ]
  },
  {
   "cell_type": "code",
   "execution_count": null,
   "id": "ca82c99d",
   "metadata": {},
   "outputs": [],
   "source": [
    "model.load_weights(checkpoint_filepath)"
   ]
  },
  {
   "cell_type": "code",
   "execution_count": null,
   "id": "0c351965",
   "metadata": {},
   "outputs": [],
   "source": [
    "test_dataset=test_ds.map(vectorizer)\n",
    "test_dataset=test_dataset.batch(BATCH_SIZE)\n",
    "model.evaluate(test_dataset)"
   ]
  },
  {
   "cell_type": "code",
   "execution_count": null,
   "id": "3cef85a9",
   "metadata": {},
   "outputs": [],
   "source": [
    "test_data=tf.data.Dataset.from_tensor_slices([[\"this movie looks very interesting, i love the fact that the actors do a great job in showing how people lived in the 18th century, which wasn't very good at all. But atleast this movie recreates this scenes! \"],\n",
    "                                              [\"very good start, but movie started becoming interesting at some point and fortunately at some point it started becoming much more fun, though there was too much background noise, so in all i liked this movie \"],])\n"
   ]
  },
  {
   "cell_type": "code",
   "execution_count": null,
   "id": "0623b89e",
   "metadata": {},
   "outputs": [],
   "source": [
    "def vectorizer_test(review):\n",
    "    return vectorize_layer(review)\n",
    "test_dataset=test_data.map(vectorizer_test)"
   ]
  },
  {
   "cell_type": "code",
   "execution_count": null,
   "id": "dd06cbd2",
   "metadata": {},
   "outputs": [],
   "source": [
    "model.predict(test_dataset)"
   ]
  },
  {
   "cell_type": "code",
   "execution_count": null,
   "id": "145ee24d",
   "metadata": {},
   "outputs": [],
   "source": [
    "inputs = Input(shape=(1,), dtype=\"string\")\n",
    "vectorized_inputs=vectorize_layer(inputs) \n",
    "outputs = model(vectorized_inputs) \n",
    "inference_ready_model = tf.keras.Model(inputs, outputs) \n",
    "inference_ready_model.summary()"
   ]
  },
  {
   "cell_type": "code",
   "execution_count": null,
   "id": "0c78662b",
   "metadata": {},
   "outputs": [],
   "source": [
    "inference_ready_model.predict([\"this movie looks very interesting, i love the fact that the actors do a great job in showing how people lived in the 18th century, which wasn't very good at all. But atleast this movie recreates this scenes! \",\n",
    "                               \"very good start, but movie started becoming interesting at some point and fortunately at some point it started becoming much more fun, though there was too much background noise, so in all i liked this movie \"])"
   ]
  },
  {
   "cell_type": "code",
   "execution_count": null,
   "id": "38e4c1fb",
   "metadata": {},
   "outputs": [],
   "source": [
    "EMBEDDING_DIM=300\n",
    "model=tf.keras.models.Sequential([\n",
    "    Input(shape=(SEQUENCE_LENGTH,)),\n",
    "    Embedding(VOCAB_SIZE,EMBEDDING_DIM),\n",
    "\n",
    "    Conv1D(32, 3, activation='relu',),\n",
    "    Flatten(),\n",
    "    Dense(32, activation='relu'),\n",
    "    Dropout(0.5),\n",
    "    Dense(1,activation='sigmoid'),\n",
    "])\n",
    "model.summary()"
   ]
  },
  {
   "cell_type": "code",
   "execution_count": null,
   "id": "45a95a1c",
   "metadata": {},
   "outputs": [],
   "source": [
    "model.compile(loss=tf.keras.losses.BinaryCrossentropy(),\n",
    "              optimizer=tf.keras.optimizers.Adam(1e-4),\n",
    "              metrics=['accuracy'])"
   ]
  },
  {
   "cell_type": "code",
   "execution_count": null,
   "id": "9057154e",
   "metadata": {},
   "outputs": [],
   "source": [
    "log_dir='logs/imdb/fit/'+datetime.datetime.now().strftime(\"%Y%m%d-%H%M%S\")+'/'"
   ]
  },
  {
   "cell_type": "code",
   "execution_count": null,
   "id": "0d951d88",
   "metadata": {},
   "outputs": [],
   "source": [
    "tensorboard_callback=tf.keras.callbacks.TensorBoard(log_dir,histogram_freq=1)"
   ]
  },
  {
   "cell_type": "code",
   "execution_count": null,
   "id": "7e867cf5",
   "metadata": {},
   "outputs": [],
   "source": [
    "history=model.fit(\n",
    "    train_dataset.take(34),\n",
    "    validation_data=val_dataset,\n",
    "    epochs=1,\n",
    "    callbacks=[tensorboard_callback])"
   ]
  },
  {
   "cell_type": "code",
   "execution_count": null,
   "id": "6eb041dd",
   "metadata": {},
   "outputs": [],
   "source": [
    "with open(os.path.join(log_dir,'metadata.tsv'),\"w\",encoding=\"utf-8\") as f:\n",
    "  for i in range(VOCAB_SIZE):\n",
    "    f.write(\"{} {}\\n\".format(i,vectorize_layer.get_vocabulary()[i]))"
   ]
  },
  {
   "cell_type": "code",
   "execution_count": null,
   "id": "0d54a705",
   "metadata": {},
   "outputs": [],
   "source": [
    "embedding_weights=tf.Variable(model.layers[0].get_weights()[0])\n",
    "print(embedding_weights.shape)"
   ]
  },
  {
   "cell_type": "code",
   "execution_count": null,
   "id": "b1d66c0a",
   "metadata": {},
   "outputs": [],
   "source": [
    "checkpoint=tf.train.Checkpoint(embedding=embedding_weights)\n",
    "checkpoint.save(os.path.join(log_dir,\"embedding.ckpt\"))\n",
    "\n",
    "config=projector.ProjectorConfig()\n",
    "embedding=config.embeddings.add()"
   ]
  },
  {
   "cell_type": "code",
   "execution_count": null,
   "id": "44150292",
   "metadata": {},
   "outputs": [],
   "source": [
    "embedding.metadata_path='metadata.tsv'\n",
    "projector.visualize_embeddings(log_dir,config)"
   ]
  },
  {
   "cell_type": "code",
   "execution_count": null,
   "id": "51404024",
   "metadata": {},
   "outputs": [],
   "source": [
    "%load_ext tensorboard"
   ]
  },
  {
   "cell_type": "code",
   "execution_count": null,
   "id": "7805ef42",
   "metadata": {},
   "outputs": [],
   "source": [
    "%tensorboard --logdir logs/imdb/fit/"
   ]
  },
  {
   "cell_type": "code",
   "execution_count": null,
   "id": "ec33cb54",
   "metadata": {},
   "outputs": [],
   "source": []
  },
  {
   "cell_type": "code",
   "execution_count": null,
   "id": "ad1f956d",
   "metadata": {},
   "outputs": [],
   "source": []
  },
  {
   "cell_type": "code",
   "execution_count": null,
   "id": "9b6493ca",
   "metadata": {},
   "outputs": [],
   "source": []
  },
  {
   "cell_type": "code",
   "execution_count": null,
   "id": "67d66e4e",
   "metadata": {},
   "outputs": [],
   "source": []
  }
 ],
 "metadata": {
  "kernelspec": {
   "display_name": "Python 3 (ipykernel)",
   "language": "python",
   "name": "python3"
  },
  "language_info": {
   "codemirror_mode": {
    "name": "ipython",
    "version": 3
   },
   "file_extension": ".py",
   "mimetype": "text/x-python",
   "name": "python",
   "nbconvert_exporter": "python",
   "pygments_lexer": "ipython3",
   "version": "3.11.7"
  }
 },
 "nbformat": 4,
 "nbformat_minor": 5
}
